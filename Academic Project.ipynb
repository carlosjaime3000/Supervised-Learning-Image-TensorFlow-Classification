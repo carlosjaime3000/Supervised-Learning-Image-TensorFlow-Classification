{
 "cells": [
  {
   "cell_type": "markdown",
   "metadata": {},
   "source": [
    "<p>\n",
    "Carlos Jaime<br>\n",
    "1000847444<br>\n",
    "INSY5375<br>\n",
    "<br>\n",
    "<br>\n",
    "12.9.2019\n",
    "<br>\n",
    "</p>\n",
    "<h1 align='center'>Individual Assignment</h1>\n",
    "<hr>"
   ]
  },
  {
   "cell_type": "markdown",
   "metadata": {},
   "source": [
    "<p>In this project, i used the following Supervised models for image classification:</p>\n",
    "<ol>\n",
    "    <li>Logistic</li>\n",
    "    <li>SVM</li>\n",
    "    <li>Nerual Neworks</li>\n",
    "    <li>KNN</li>\n",
    "    <li>Naive Bayes</li>\n",
    "</ol>\n",
    "    "
   ]
  },
  {
   "cell_type": "markdown",
   "metadata": {},
   "source": [
    "<p>All 5 of my images were taken with an iphone 11 pro.<br>\n",
    "   The images were then opened in photoshop and the backgrounds were removed using the magic wand tool.<br>\n",
    "    I then applied a white background to all 5 images (more information below). </p>"
   ]
  },
  {
   "cell_type": "markdown",
   "metadata": {},
   "source": [
    "<div class=\"box red\" style=\"width:100%;height:15px;background:#00f\"></div>\n",
    "<h3>Fashion_mnist data:</h3>"
   ]
  },
  {
   "cell_type": "code",
   "execution_count": 1,
   "metadata": {},
   "outputs": [],
   "source": [
    "#Here, i made my data ready before i applied different models.\n",
    "\n",
    "import tensorflow as tf\n",
    "from tensorflow import keras\n",
    "fashion_mnist = keras.datasets.fashion_mnist\n",
    "\n",
    "import numpy as np"
   ]
  },
  {
   "cell_type": "code",
   "execution_count": 2,
   "metadata": {},
   "outputs": [],
   "source": [
    "(X_train, y_train), (X_test, y_test) = fashion_mnist.load_data()"
   ]
  },
  {
   "cell_type": "code",
   "execution_count": 3,
   "metadata": {},
   "outputs": [],
   "source": [
    "#changed range of the data \n",
    "X_train = X_train / 255.0\n",
    "X_test = X_test / 255.0"
   ]
  },
  {
   "cell_type": "code",
   "execution_count": 4,
   "metadata": {},
   "outputs": [
    {
     "data": {
      "text/plain": [
       "(60000, 784)"
      ]
     },
     "execution_count": 4,
     "metadata": {},
     "output_type": "execute_result"
    }
   ],
   "source": [
    "#reshaping train data into 1 dimension, flat the images\n",
    "X_train_flat =  []\n",
    "\n",
    "\n",
    "for x in X_train:\n",
    "    X_train_flat.append(x.reshape(28*28))\n",
    "\n",
    "    \n",
    "X_train_flat= np.array(X_train_flat)\n",
    "X_train_flat.shape"
   ]
  },
  {
   "cell_type": "code",
   "execution_count": 5,
   "metadata": {},
   "outputs": [
    {
     "data": {
      "text/plain": [
       "(10000, 784)"
      ]
     },
     "execution_count": 5,
     "metadata": {},
     "output_type": "execute_result"
    }
   ],
   "source": [
    "#reshaping test data into 1 dimension\n",
    "X_test_flat =  []\n",
    "\n",
    "\n",
    "\n",
    "for x in X_test:\n",
    "    X_test_flat.append(x.reshape(28*28))\n",
    "\n",
    "    \n",
    "X_test_flat= np.array(X_test_flat)\n",
    "X_test_flat.shape"
   ]
  },
  {
   "cell_type": "code",
   "execution_count": 6,
   "metadata": {},
   "outputs": [
    {
     "name": "stdout",
     "output_type": "stream",
     "text": [
      "(60000, 784)\n",
      "(60000,)\n",
      "----\n",
      "(10000, 784)\n",
      "(10000,)\n"
     ]
    }
   ],
   "source": [
    "print(X_train_flat.shape)\n",
    "print(y_train.shape)\n",
    "print('----')\n",
    "print(X_test_flat.shape)\n",
    "print(y_test.shape)"
   ]
  },
  {
   "cell_type": "code",
   "execution_count": 7,
   "metadata": {},
   "outputs": [
    {
     "data": {
      "text/plain": [
       "array([[9],\n",
       "       [2],\n",
       "       [1],\n",
       "       ...,\n",
       "       [8],\n",
       "       [1],\n",
       "       [5]], dtype=uint8)"
      ]
     },
     "execution_count": 7,
     "metadata": {},
     "output_type": "execute_result"
    }
   ],
   "source": [
    "#reshaped the target variables\n",
    "y_train.reshape(60000,1)\n",
    "y_test.reshape(10000,1)"
   ]
  },
  {
   "cell_type": "markdown",
   "metadata": {},
   "source": [
    "<div class=\"box red\" style=\"width:100%;height:100px;background:#00f;text-align: center\"><br>\n",
    "    <h1 style=\"color:white\">Task 1</h1>\n",
    "</div> "
   ]
  },
  {
   "cell_type": "markdown",
   "metadata": {},
   "source": [
    "<div class=\"box red\" style=\"width:50%;height:15px;background:#00f\">\n",
    "  \n",
    "</div> \n",
    "<h3>Model 1: Logistic</h3>"
   ]
  },
  {
   "cell_type": "code",
   "execution_count": 8,
   "metadata": {},
   "outputs": [],
   "source": [
    "X_test_flat_logistic = X_test_flat.copy()\n",
    "X_train_flat_logistic = X_train_flat.copy()\n",
    "\n",
    "y_test_logistic = y_test.copy()\n",
    "y_train_logistic = y_train.copy()"
   ]
  },
  {
   "cell_type": "code",
   "execution_count": 9,
   "metadata": {},
   "outputs": [],
   "source": [
    "# #model\n",
    "# # Step 1\n",
    "from sklearn.linear_model import LogisticRegression\n",
    "# # Step 2\n",
    "model_log = LogisticRegression(max_iter=10000)\n",
    "# # Step 3\n",
    "# #X_train, X_test, y_train, y_test = train_test_split(X_train_flat, y_train, test_size=0.3, random_state=0, stratify = y_train)\n",
    "# # Step 4\n",
    "model_log.fit(X_train_flat_logistic, y_train_logistic)\n",
    "# # Step 5\n",
    "y_test_hat_logistic = model_log.predict(X_test_flat_logistic)\n",
    "y_train_hat_logistic = model_log.predict(X_train_flat_logistic)"
   ]
  },
  {
   "cell_type": "code",
   "execution_count": 10,
   "metadata": {},
   "outputs": [
    {
     "name": "stdout",
     "output_type": "stream",
     "text": [
      "in sample:88.10833333333333\n",
      "out sample:84.41\n"
     ]
    }
   ],
   "source": [
    "from sklearn.metrics import accuracy_score\n",
    "print('in sample:{}'.format(accuracy_score(y_train_logistic,y_train_hat_logistic, normalize = True) * 100 ))\n",
    "print('out sample:{}'.format(accuracy_score(y_test_logistic,y_test_hat_logistic, normalize = True) * 100 ))"
   ]
  },
  {
   "cell_type": "code",
   "execution_count": 11,
   "metadata": {},
   "outputs": [
    {
     "name": "stdout",
     "output_type": "stream",
     "text": [
      "              precision    recall  f1-score   support\n",
      "\n",
      " T-shirt/top       0.80      0.81      0.80      1000\n",
      "     Trouser       0.97      0.96      0.96      1000\n",
      "    Pullover       0.73      0.74      0.73      1000\n",
      "       Dress       0.83      0.86      0.84      1000\n",
      "        Coat       0.74      0.76      0.75      1000\n",
      "      Sandal       0.94      0.92      0.93      1000\n",
      "       Shirt       0.63      0.57      0.60      1000\n",
      "     Sneaker       0.91      0.94      0.92      1000\n",
      "         Bag       0.93      0.93      0.93      1000\n",
      "  Ankle boot       0.95      0.95      0.95      1000\n",
      "\n",
      "    accuracy                           0.84     10000\n",
      "   macro avg       0.84      0.84      0.84     10000\n",
      "weighted avg       0.84      0.84      0.84     10000\n",
      "\n"
     ]
    }
   ],
   "source": [
    "class_names = ['T-shirt/top','Trouser','Pullover','Dress','Coat','Sandal','Shirt','Sneaker','Bag','Ankle boot']\n",
    "\n",
    "from sklearn.metrics import classification_report \n",
    "print(classification_report(y_test_logistic, y_test_hat_logistic, \n",
    "                            target_names=class_names))"
   ]
  },
  {
   "cell_type": "code",
   "execution_count": 13,
   "metadata": {},
   "outputs": [
    {
     "name": "stdout",
     "output_type": "stream",
     "text": [
      "AUC for log: 0.983\n"
     ]
    }
   ],
   "source": [
    "from sklearn.metrics import roc_auc_score\n",
    "\n",
    "log_auc = roc_auc_score(y_test_logistic, model_log.predict_proba(X_test_flat_logistic)[:], multi_class=\"ovr\") \n",
    "print(\"AUC for log: {:.3f}\".format(log_auc))"
   ]
  },
  {
   "cell_type": "markdown",
   "metadata": {},
   "source": [
    "<div class=\"box red\" style=\"width:50%;height:15px;background:#00f\">\n",
    "  \n",
    "</div> \n",
    "<h3>Model 2: SVM</h3>"
   ]
  },
  {
   "cell_type": "code",
   "execution_count": 14,
   "metadata": {},
   "outputs": [],
   "source": [
    "X_test_flat_svm = X_test_flat.copy()\n",
    "X_train_flat_svm = X_train_flat.copy()\n",
    "\n",
    "y_test_svm = y_test.copy()\n",
    "y_train_svm = y_train.copy()"
   ]
  },
  {
   "cell_type": "code",
   "execution_count": 15,
   "metadata": {},
   "outputs": [],
   "source": [
    "#here i created a pipeline to handle the svc model and pca reduction\n",
    "#i recuded the dimension to 150\n",
    "\n",
    "\n",
    "from sklearn.decomposition import PCA\n",
    "from sklearn.pipeline import make_pipeline\n",
    "from sklearn.svm import SVC\n",
    "\n",
    "\n",
    "\n",
    "\n",
    "from sklearn.decomposition import PCA\n",
    "from sklearn.pipeline import make_pipeline\n",
    "from sklearn.svm import SVC\n",
    "# InitializeDimension Reduction model\n",
    "pca = PCA(svd_solver='randomized', n_components=150, \n",
    "          whiten=True, random_state=0)\n",
    "\n",
    "svc = SVC(probability=True)\n",
    "# Create pipleline model\n",
    "model_svm = make_pipeline(pca, svc)"
   ]
  },
  {
   "cell_type": "code",
   "execution_count": 16,
   "metadata": {},
   "outputs": [
    {
     "data": {
      "text/plain": [
       "Pipeline(steps=[('pca',\n",
       "                 PCA(n_components=150, random_state=0, svd_solver='randomized',\n",
       "                     whiten=True)),\n",
       "                ('svc', SVC(probability=True))])"
      ]
     },
     "execution_count": 16,
     "metadata": {},
     "output_type": "execute_result"
    }
   ],
   "source": [
    "model_svm.fit(X_train_flat_svm, y_train_svm)"
   ]
  },
  {
   "cell_type": "code",
   "execution_count": 17,
   "metadata": {},
   "outputs": [
    {
     "name": "stdout",
     "output_type": "stream",
     "text": [
      "              precision    recall  f1-score   support\n",
      "\n",
      " T-shirt/top       0.84      0.86      0.85      1000\n",
      "     Trouser       1.00      0.97      0.98      1000\n",
      "    Pullover       0.81      0.82      0.81      1000\n",
      "       Dress       0.89      0.90      0.90      1000\n",
      "        Coat       0.82      0.82      0.82      1000\n",
      "      Sandal       0.96      0.98      0.97      1000\n",
      "       Shirt       0.73      0.68      0.71      1000\n",
      "     Sneaker       0.95      0.97      0.96      1000\n",
      "         Bag       0.97      0.98      0.97      1000\n",
      "  Ankle boot       0.98      0.96      0.97      1000\n",
      "\n",
      "    accuracy                           0.89     10000\n",
      "   macro avg       0.89      0.89      0.89     10000\n",
      "weighted avg       0.89      0.89      0.89     10000\n",
      "\n"
     ]
    }
   ],
   "source": [
    "class_names = ['T-shirt/top','Trouser','Pullover','Dress','Coat','Sandal','Shirt','Sneaker','Bag','Ankle boot']\n",
    "\n",
    "y_test_hat_svm = model_svm.predict(X_test_flat_svm)\n",
    "y_train_hat_svm = model_svm.predict(X_train_flat_svm)\n",
    "\n",
    "from sklearn.metrics import classification_report \n",
    "print(classification_report(y_test_svm, y_test_hat_svm, \n",
    "                            target_names=class_names))"
   ]
  },
  {
   "cell_type": "code",
   "execution_count": 18,
   "metadata": {},
   "outputs": [
    {
     "name": "stdout",
     "output_type": "stream",
     "text": [
      "out sample:95.42333333333333\n",
      "out sample:89.46\n"
     ]
    }
   ],
   "source": [
    "#very good variance and bias\n",
    "from sklearn.metrics import accuracy_score\n",
    "print('out sample:{}'.format(accuracy_score(y_train_svm,y_train_hat_svm, normalize = True) * 100 ))\n",
    "print('out sample:{}'.format(accuracy_score(y_test_svm,y_test_hat_svm, normalize = True) * 100 ))"
   ]
  },
  {
   "cell_type": "code",
   "execution_count": 19,
   "metadata": {},
   "outputs": [
    {
     "name": "stdout",
     "output_type": "stream",
     "text": [
      "AUC for log: 0.992\n"
     ]
    }
   ],
   "source": [
    "#very good AUC\n",
    "from sklearn.metrics import roc_auc_score\n",
    "\n",
    "log_auc = roc_auc_score(y_test, model_svm.predict_proba(X_test_flat_svm)[:], multi_class=\"ovr\") \n",
    "print(\"AUC for log: {:.3f}\".format(log_auc))"
   ]
  },
  {
   "cell_type": "markdown",
   "metadata": {},
   "source": [
    "<div class=\"box red\" style=\"width:50%;height:15px;background:#00f\">\n",
    "  \n",
    "</div> \n",
    "<h3>Model 3: Neural Network</h3>"
   ]
  },
  {
   "cell_type": "code",
   "execution_count": 20,
   "metadata": {},
   "outputs": [],
   "source": [
    "X_test_flat_NN =  X_test_flat.copy()\n",
    "X_train_flat_NN =  X_train_flat.copy()\n",
    "\n",
    "y_test_NN = y_test.copy()\n",
    "y_train_NN = y_train.copy()"
   ]
  },
  {
   "cell_type": "code",
   "execution_count": 21,
   "metadata": {},
   "outputs": [
    {
     "data": {
      "text/plain": [
       "(60000, 20)"
      ]
     },
     "execution_count": 21,
     "metadata": {},
     "output_type": "execute_result"
    }
   ],
   "source": [
    "#featured reduced to 20\n",
    "from sklearn.decomposition import PCA\n",
    "pca_1NN = PCA(svd_solver='randomized',n_components=20)                                    # Set the number of desired components\n",
    "X_test_flat_NN = pca_1NN.fit_transform(X_test_flat_NN)     # Fit the PCA model\n",
    "X_test_flat_NN.shape\n",
    "\n",
    "from sklearn.decomposition import PCA\n",
    "pca_2NN = PCA(svd_solver='randomized',n_components=20)                                    # Set the number of desired components\n",
    "X_train_flat_NN = pca_2NN.fit_transform(X_train_flat_NN)     # Fit the PCA model\n",
    "X_train_flat_NN.shape\n"
   ]
  },
  {
   "cell_type": "code",
   "execution_count": 22,
   "metadata": {},
   "outputs": [
    {
     "name": "stdout",
     "output_type": "stream",
     "text": [
      "In-sample Accuracy:  82.75666666666666\n",
      "Out-of-sample Accuracy:  47.19\n"
     ]
    },
    {
     "name": "stderr",
     "output_type": "stream",
     "text": [
      "C:\\Users\\Carlos\\Anaconda3\\lib\\site-packages\\sklearn\\neural_network\\_multilayer_perceptron.py:471: ConvergenceWarning: lbfgs failed to converge (status=1):\n",
      "STOP: TOTAL NO. of ITERATIONS REACHED LIMIT.\n",
      "\n",
      "Increase the number of iterations (max_iter) or scale the data as shown in:\n",
      "    https://scikit-learn.org/stable/modules/preprocessing.html\n",
      "  self.n_iter_ = _check_optimize_result(\"lbfgs\", opt_res, self.max_iter)\n"
     ]
    }
   ],
   "source": [
    "from sklearn.neural_network import MLPClassifier\n",
    "from sklearn.metrics import accuracy_score\n",
    "\n",
    "\n",
    "\n",
    "model_NN = MLPClassifier(solver='lbfgs',random_state=0, \n",
    "                      hidden_layer_sizes=[10,5])\n",
    "model_NN.fit(X_train_flat_NN,y_train_NN)\n",
    "\n",
    "# check the accuracy\n",
    "y_train_hat_NN = model_NN.predict(X_train_flat_NN)\n",
    "y_test_hat_NN = model_NN.predict(X_test_flat_NN)\n",
    "\n",
    "in_sample_acc = accuracy_score(y_train,y_train_hat_NN, normalize = True) * 100\n",
    "out_of_sample_acc = accuracy_score(y_test,y_test_hat_NN, normalize = True) * 100\n",
    "print(\"In-sample Accuracy: \", in_sample_acc)\n",
    "print(\"Out-of-sample Accuracy: \", out_of_sample_acc)\n",
    "#Here, there seems to be a very serious problem with variance.\n",
    "#I think its because neural netowrk is too complicated and therefore we are getting high variance?"
   ]
  },
  {
   "cell_type": "code",
   "execution_count": 23,
   "metadata": {},
   "outputs": [
    {
     "name": "stdout",
     "output_type": "stream",
     "text": [
      "              precision    recall  f1-score   support\n",
      "\n",
      " T-shirt/top       0.67      0.61      0.64      1000\n",
      "     Trouser       0.86      0.90      0.88      1000\n",
      "    Pullover       0.49      0.24      0.32      1000\n",
      "       Dress       0.52      0.62      0.57      1000\n",
      "        Coat       0.54      0.32      0.40      1000\n",
      "      Sandal       0.35      0.38      0.37      1000\n",
      "       Shirt       0.15      0.18      0.17      1000\n",
      "     Sneaker       0.43      0.68      0.53      1000\n",
      "         Bag       0.58      0.79      0.67      1000\n",
      "  Ankle boot       0.00      0.00      0.00      1000\n",
      "\n",
      "    accuracy                           0.47     10000\n",
      "   macro avg       0.46      0.47      0.45     10000\n",
      "weighted avg       0.46      0.47      0.45     10000\n",
      "\n"
     ]
    }
   ],
   "source": [
    "class_names = ['T-shirt/top','Trouser','Pullover','Dress','Coat','Sandal','Shirt','Sneaker','Bag','Ankle boot']\n",
    "\n",
    "\n",
    "from sklearn.metrics import classification_report \n",
    "print(classification_report(y_test_NN, y_test_hat_NN, \n",
    "                            target_names=class_names))"
   ]
  },
  {
   "cell_type": "code",
   "execution_count": 24,
   "metadata": {},
   "outputs": [
    {
     "name": "stdout",
     "output_type": "stream",
     "text": [
      "AUC for log: 0.787\n"
     ]
    }
   ],
   "source": [
    "#AUC score is ok\n",
    "from sklearn.metrics import roc_auc_score\n",
    "\n",
    "log_auc = roc_auc_score(y_test, model_NN.predict_proba(X_test_flat_NN)[:], multi_class=\"ovr\") \n",
    "print(\"AUC for log: {:.3f}\".format(log_auc))"
   ]
  },
  {
   "cell_type": "markdown",
   "metadata": {},
   "source": [
    "<div class=\"box red\" style=\"width:50%;height:15px;background:#00f\">\n",
    "  \n",
    "</div> \n",
    "<h3>Model 4: KNN</h3>"
   ]
  },
  {
   "cell_type": "code",
   "execution_count": 25,
   "metadata": {},
   "outputs": [],
   "source": [
    "X_test_flat_KNN = X_test_flat.copy()\n",
    "X_train_flat_KNN = X_train_flat.copy()\n",
    "\n",
    "y_test_KNN = y_test.copy()\n",
    "y_train_KNN = y_train.copy()"
   ]
  },
  {
   "cell_type": "code",
   "execution_count": 26,
   "metadata": {},
   "outputs": [
    {
     "data": {
      "text/plain": [
       "(10000, 784)"
      ]
     },
     "execution_count": 26,
     "metadata": {},
     "output_type": "execute_result"
    }
   ],
   "source": [
    "X_test_flat_KNN.shape"
   ]
  },
  {
   "cell_type": "code",
   "execution_count": 27,
   "metadata": {},
   "outputs": [
    {
     "data": {
      "text/plain": [
       "(60000, 40)"
      ]
     },
     "execution_count": 27,
     "metadata": {},
     "output_type": "execute_result"
    }
   ],
   "source": [
    "from sklearn.decomposition import PCA\n",
    "pca_KNN1 = PCA(svd_solver='randomized',n_components=40)                                    # Set the number of desired components\n",
    "X_test_flat_KNN = pca_KNN1.fit_transform(X_test_flat_KNN)     # Fit the PCA model\n",
    "X_test_flat_KNN.shape\n",
    "\n",
    "pca_KNN2 = PCA(svd_solver='randomized', n_components=40)                                    # Set the number of desired components\n",
    "X_train_flat_KNN = pca_KNN2.fit_transform(X_train_flat_KNN)     # Fit the PCA model\n",
    "X_train_flat_KNN.shape  "
   ]
  },
  {
   "cell_type": "code",
   "execution_count": 28,
   "metadata": {},
   "outputs": [],
   "source": [
    "from sklearn.neighbors import KNeighborsClassifier\n",
    "from sklearn.metrics import accuracy_score\n",
    "from sklearn.model_selection import GridSearchCV\n",
    "from sklearn.model_selection import StratifiedKFold"
   ]
  },
  {
   "cell_type": "code",
   "execution_count": 29,
   "metadata": {},
   "outputs": [],
   "source": [
    "model_KNN = KNeighborsClassifier(n_neighbors=7)\n",
    "model_KNN.fit(X_train_flat_KNN, y_train_KNN);\n",
    "\n",
    "from sklearn.metrics import classification_report, confusion_matrix\n",
    "\n",
    "y_train_hat_KNN = model_KNN.predict(X_train_flat_KNN)\n",
    "y_test_hat_KNN = model_KNN.predict(X_test_flat_KNN)"
   ]
  },
  {
   "cell_type": "code",
   "execution_count": 30,
   "metadata": {},
   "outputs": [
    {
     "name": "stdout",
     "output_type": "stream",
     "text": [
      "in sample:89.12166666666667\n",
      "out sample:56.21000000000001\n"
     ]
    }
   ],
   "source": [
    "#There seems to be a lot if variance here.\n",
    "print('in sample:{}'.format(accuracy_score(y_train,y_train_hat_KNN, normalize = True) * 100 ))\n",
    "print('out sample:{}'.format(accuracy_score(y_test,y_test_hat_KNN, normalize = True) * 100 ))"
   ]
  },
  {
   "cell_type": "code",
   "execution_count": 31,
   "metadata": {},
   "outputs": [
    {
     "name": "stdout",
     "output_type": "stream",
     "text": [
      "              precision    recall  f1-score   support\n",
      "\n",
      " T-shirt/top       0.65      0.73      0.69      1000\n",
      "     Trouser       0.95      0.91      0.93      1000\n",
      "    Pullover       0.39      0.37      0.38      1000\n",
      "       Dress       0.62      0.72      0.67      1000\n",
      "        Coat       0.47      0.57      0.52      1000\n",
      "      Sandal       0.43      0.40      0.42      1000\n",
      "       Shirt       0.28      0.17      0.21      1000\n",
      "     Sneaker       0.59      0.82      0.69      1000\n",
      "         Bag       0.80      0.91      0.85      1000\n",
      "  Ankle boot       0.03      0.01      0.02      1000\n",
      "\n",
      "    accuracy                           0.56     10000\n",
      "   macro avg       0.52      0.56      0.54     10000\n",
      "weighted avg       0.52      0.56      0.54     10000\n",
      "\n"
     ]
    }
   ],
   "source": [
    "class_names = ['T-shirt/top','Trouser','Pullover','Dress','Coat','Sandal','Shirt','Sneaker','Bag','Ankle boot']\n",
    "\n",
    "\n",
    "from sklearn.metrics import classification_report \n",
    "print(classification_report(y_test_KNN, y_test_hat_KNN, \n",
    "                            target_names=class_names))"
   ]
  },
  {
   "cell_type": "code",
   "execution_count": 1,
   "metadata": {},
   "outputs": [
    {
     "ename": "NameError",
     "evalue": "name 'y_test' is not defined",
     "output_type": "error",
     "traceback": [
      "\u001b[1;31m---------------------------------------------------------------------------\u001b[0m",
      "\u001b[1;31mNameError\u001b[0m                                 Traceback (most recent call last)",
      "\u001b[1;32m<ipython-input-1-03dfd375fa21>\u001b[0m in \u001b[0;36m<module>\u001b[1;34m\u001b[0m\n\u001b[0;32m      2\u001b[0m \u001b[1;32mfrom\u001b[0m \u001b[0msklearn\u001b[0m\u001b[1;33m.\u001b[0m\u001b[0mmetrics\u001b[0m \u001b[1;32mimport\u001b[0m \u001b[0mroc_auc_score\u001b[0m\u001b[1;33m\u001b[0m\u001b[1;33m\u001b[0m\u001b[0m\n\u001b[0;32m      3\u001b[0m \u001b[1;33m\u001b[0m\u001b[0m\n\u001b[1;32m----> 4\u001b[1;33m \u001b[0mlog_auc\u001b[0m \u001b[1;33m=\u001b[0m \u001b[0mroc_auc_score\u001b[0m\u001b[1;33m(\u001b[0m\u001b[0my_test\u001b[0m\u001b[1;33m,\u001b[0m \u001b[0mmodel_KNN\u001b[0m\u001b[1;33m.\u001b[0m\u001b[0mpredict_proba\u001b[0m\u001b[1;33m(\u001b[0m\u001b[0mX_test_flat_KNN\u001b[0m\u001b[1;33m)\u001b[0m\u001b[1;33m[\u001b[0m\u001b[1;33m:\u001b[0m\u001b[1;33m]\u001b[0m\u001b[1;33m,\u001b[0m \u001b[0mmulti_class\u001b[0m\u001b[1;33m=\u001b[0m\u001b[1;34m\"ovr\"\u001b[0m\u001b[1;33m)\u001b[0m\u001b[1;33m\u001b[0m\u001b[1;33m\u001b[0m\u001b[0m\n\u001b[0m\u001b[0;32m      5\u001b[0m \u001b[0mprint\u001b[0m\u001b[1;33m(\u001b[0m\u001b[1;34m\"AUC for log: {:.3f}\"\u001b[0m\u001b[1;33m.\u001b[0m\u001b[0mformat\u001b[0m\u001b[1;33m(\u001b[0m\u001b[0mlog_auc\u001b[0m\u001b[1;33m)\u001b[0m\u001b[1;33m)\u001b[0m\u001b[1;33m\u001b[0m\u001b[1;33m\u001b[0m\u001b[0m\n",
      "\u001b[1;31mNameError\u001b[0m: name 'y_test' is not defined"
     ]
    }
   ],
   "source": [
    "#very good auc\n",
    "from sklearn.metrics import roc_auc_score\n",
    "\n",
    "log_auc = roc_auc_score(y_test, model_KNN.predict_proba(X_test_flat_KNN)[:], multi_class=\"ovr\") \n",
    "print(\"AUC for log: {:.3f}\".format(log_auc))"
   ]
  },
  {
   "cell_type": "markdown",
   "metadata": {},
   "source": [
    "<div class=\"box red\" style=\"width:50%;height:15px;background:#00f\">\n",
    "  \n",
    "</div> \n",
    "<h3>Model 5: Naive Bayes</h3>"
   ]
  },
  {
   "cell_type": "code",
   "execution_count": 141,
   "metadata": {},
   "outputs": [],
   "source": [
    "X_test_flat_NB = X_test_flat.copy()\n",
    "X_train_flat_NB = X_train_flat.copy()\n",
    "\n",
    "y_test_NB = y_test.copy()\n",
    "y_train_NB = y_train.copy()"
   ]
  },
  {
   "cell_type": "code",
   "execution_count": 142,
   "metadata": {},
   "outputs": [
    {
     "data": {
      "text/plain": [
       "(60000, 140)"
      ]
     },
     "execution_count": 142,
     "metadata": {},
     "output_type": "execute_result"
    }
   ],
   "source": [
    "#i reduced the amount of features to 140\n",
    "\n",
    "pca_NB1 = PCA(svd_solver='randomized', n_components=140)                                    # Set the number of desired components\n",
    "X_train_flat_NB = pca_NB1.fit_transform(X_train_flat_NB)     # Fit the PCA model\n",
    "X_train_flat_NB.shape  \n",
    "\n",
    "# from sklearn.manifold import Isomap\n",
    "# iso = Isomap(n_components=45)\n",
    "# X_train_flat = iso.fit_transform(X_train_flat)"
   ]
  },
  {
   "cell_type": "code",
   "execution_count": 143,
   "metadata": {},
   "outputs": [
    {
     "data": {
      "text/plain": [
       "(10000, 140)"
      ]
     },
     "execution_count": 143,
     "metadata": {},
     "output_type": "execute_result"
    }
   ],
   "source": [
    "#i reduced the amount of features to 140\n",
    "\n",
    "pca_NB2 = PCA(svd_solver='randomized', n_components=140)                                    # Set the number of desired components\n",
    "X_test_flat_NB = pca_NB2.fit_transform(X_test_flat_NB)     # Fit the PCA model\n",
    "X_test_flat_NB.shape  \n",
    "\n",
    "# from sklearn.manifold import Isomap\n",
    "# iso = Isomap(n_components=45)\n",
    "# X_train_flat = iso.fit_transform(X_train_flat)"
   ]
  },
  {
   "cell_type": "code",
   "execution_count": 144,
   "metadata": {},
   "outputs": [],
   "source": [
    "from sklearn.naive_bayes import GaussianNB \n",
    "from sklearn.metrics import accuracy_score\n",
    "model_NB = GaussianNB()\n",
    "model_NB.fit(X_train_flat_NB, y_train_NB)\n",
    "\n",
    "\n",
    "\n",
    "y_train_hat_NB = model_NB.predict(X_train_flat_NB)\n",
    "y_test_hat_NB = model_NB.predict(X_test_flat_NB)"
   ]
  },
  {
   "cell_type": "code",
   "execution_count": 145,
   "metadata": {},
   "outputs": [
    {
     "name": "stdout",
     "output_type": "stream",
     "text": [
      "in sample:76.31166666666667\n",
      "out sample:52.580000000000005\n"
     ]
    }
   ],
   "source": [
    "#here seems a lot of variance and bias here\n",
    "\n",
    "from sklearn.metrics import accuracy_score\n",
    "print('in sample:{}'.format(accuracy_score(y_train_NB,y_train_hat_NB, normalize = True) * 100 ))\n",
    "print('out sample:{}'.format(accuracy_score(y_test_NB,y_test_hat_NB, normalize = True) * 100 ))"
   ]
  },
  {
   "cell_type": "code",
   "execution_count": 146,
   "metadata": {},
   "outputs": [
    {
     "name": "stdout",
     "output_type": "stream",
     "text": [
      "              precision    recall  f1-score   support\n",
      "\n",
      " T-shirt/top       0.46      0.73      0.57      1000\n",
      "     Trouser       0.97      0.72      0.83      1000\n",
      "    Pullover       0.27      0.16      0.20      1000\n",
      "       Dress       0.74      0.56      0.64      1000\n",
      "        Coat       0.48      0.58      0.53      1000\n",
      "      Sandal       0.59      0.64      0.62      1000\n",
      "       Shirt       0.23      0.26      0.24      1000\n",
      "     Sneaker       0.80      0.69      0.74      1000\n",
      "         Bag       0.46      0.84      0.59      1000\n",
      "  Ankle boot       0.31      0.07      0.12      1000\n",
      "\n",
      "    accuracy                           0.53     10000\n",
      "   macro avg       0.53      0.53      0.51     10000\n",
      "weighted avg       0.53      0.53      0.51     10000\n",
      "\n"
     ]
    }
   ],
   "source": [
    "class_names = ['T-shirt/top','Trouser','Pullover','Dress','Coat','Sandal','Shirt','Sneaker','Bag','Ankle boot']\n",
    "\n",
    "\n",
    "from sklearn.metrics import classification_report \n",
    "print(classification_report(y_test_NB, y_test_hat_NB, \n",
    "                            target_names=class_names))"
   ]
  },
  {
   "cell_type": "code",
   "execution_count": 147,
   "metadata": {},
   "outputs": [
    {
     "name": "stdout",
     "output_type": "stream",
     "text": [
      "AUC for log: 0.876\n"
     ]
    }
   ],
   "source": [
    "#auc score is very good but accuracy, precison and f1 is not very good\n",
    "from sklearn.metrics import roc_auc_score\n",
    "\n",
    "log_auc = roc_auc_score(y_test, model_NB.predict_proba(X_test_flat_NB)[:], multi_class=\"ovr\") \n",
    "print(\"AUC for log: {:.3f}\".format(log_auc))"
   ]
  },
  {
   "cell_type": "code",
   "execution_count": null,
   "metadata": {},
   "outputs": [],
   "source": []
  },
  {
   "cell_type": "code",
   "execution_count": null,
   "metadata": {},
   "outputs": [],
   "source": []
  },
  {
   "cell_type": "code",
   "execution_count": null,
   "metadata": {},
   "outputs": [],
   "source": []
  },
  {
   "cell_type": "markdown",
   "metadata": {},
   "source": [
    "<div class=\"box red\" style=\"width:100%;height:100px;background:#00f;text-align: center\"><br>\n",
    "    <h1 style=\"color:white\">Task 2</h1>\n",
    "</div> "
   ]
  },
  {
   "cell_type": "code",
   "execution_count": 99,
   "metadata": {},
   "outputs": [
    {
     "data": {
      "text/plain": [
       "(5, 784)"
      ]
     },
     "execution_count": 99,
     "metadata": {},
     "output_type": "execute_result"
    }
   ],
   "source": [
    "\n",
    "#Here, im opening each of my images and coverting them to a Grayscale format, resizing and reshaping to a flat version.\n",
    "#I then add all the images to X_experiment, so i can loop through the images later\n",
    "import cv2\n",
    "import numpy as np\n",
    "X_experiment =  []\n",
    "\n",
    "\n",
    "\n",
    "\n",
    "#image 1#\n",
    "img = cv2.imread('shoes_clean.jpg')\n",
    "res = cv2.resize(img, dsize=(28, 28), interpolation=cv2.INTER_CUBIC)\n",
    "res = 255-res\n",
    "img=res / 255\n",
    "\n",
    "img = np.mean(img, axis=2)\n",
    "X_experiment.append(img.reshape(28*28))\n",
    "\n",
    "\n",
    "\n",
    "\n",
    "\n",
    "#image 2#\n",
    "img = cv2.imread('shirt_1_clean.jpg')\n",
    "res = cv2.resize(img, dsize=(28, 28), interpolation=cv2.INTER_CUBIC)\n",
    "res = 255-res\n",
    "img=res / 255\n",
    "\n",
    "img = np.mean(img, axis=2)\n",
    "X_experiment.append(img.reshape(28*28))\n",
    "#     #print(x.reshape(28*28))\n",
    "\n",
    "\n",
    "\n",
    "\n",
    "\n",
    "\n",
    "#image 3#\n",
    "img = cv2.imread('shirt_2_clean.jpg')\n",
    "res = cv2.resize(img, dsize=(28, 28), interpolation=cv2.INTER_CUBIC)\n",
    "res = 255-res\n",
    "img=res / 255\n",
    "\n",
    "img = np.mean(img, axis=2)\n",
    "X_experiment.append(img.reshape(28*28))\n",
    "\n",
    "\n",
    "\n",
    "#image 4#\n",
    "img = cv2.imread('trouser_clean.jpg')\n",
    "res = cv2.resize(img, dsize=(28, 28), interpolation=cv2.INTER_CUBIC)\n",
    "res = 255-res\n",
    "img=res / 255\n",
    "\n",
    "img = np.mean(img, axis=2)\n",
    "X_experiment.append(img.reshape(28*28))\n",
    "\n",
    "\n",
    "\n",
    "\n",
    "\n",
    "#image 5#\n",
    "img = cv2.imread('pullover_clean.jpg')\n",
    "res = cv2.resize(img, dsize=(28, 28), interpolation=cv2.INTER_CUBIC)\n",
    "res = 255-res\n",
    "img=res / 255\n",
    "\n",
    "img = np.mean(img, axis=2)\n",
    "#X_experiment.append(img.reshape(28*28))\n",
    "X_experiment.append(img.reshape(28*28))\n",
    "\n",
    "\n",
    "\n",
    "\n",
    "    \n",
    "X_experiment= np.array(X_experiment)\n",
    "X_experiment.shape\n"
   ]
  },
  {
   "cell_type": "markdown",
   "metadata": {},
   "source": [
    "<div class=\"box red\" style=\"width:50%;height:15px;background:#00f\">\n",
    "  \n",
    "</div> \n",
    "<h3>Pictures of my five fashion clothing items i took</h3>"
   ]
  },
  {
   "cell_type": "code",
   "execution_count": 138,
   "metadata": {},
   "outputs": [
    {
     "data": {
      "image/png": "[encoded data removed]",
      "text/plain": [
       "<Figure size 720x720 with 5 Axes>"
      ]
     },
     "metadata": {},
     "output_type": "display_data"
    }
   ],
   "source": [
    "#here i create a list of the images names and then open all the images\n",
    "#these are the orginal pictures i took, raw images\n",
    "\n",
    "import numpy as np\n",
    "import matplotlib.image as mpimg\n",
    "import matplotlib.pyplot as plt\n",
    "%matplotlib inline\n",
    "img=[]\n",
    "filess = ['shoes','shirt1','shirt2','trouser','pullover']\n",
    "for x in filess:\n",
    "    #print(x+'.jpg')\n",
    "    fashion_image = np.array(mpimg.imread('./original_images/'+x+'.jpg'))\n",
    "    img.append(fashion_image)\n",
    "    \n",
    "\n",
    "\n",
    "#my images i took\n",
    "import matplotlib.pyplot as plt\n",
    "fig, ax = plt.subplots(1, 5, figsize=(10, 10))\n",
    "for i, axi in enumerate(ax.flat):\n",
    "    axi.imshow(img[i])\n",
    "    #axi.set_title(class_names[my_label[i]])\n",
    "    axi.set(xticks=[], yticks=[])"
   ]
  },
  {
   "cell_type": "code",
   "execution_count": 135,
   "metadata": {},
   "outputs": [
    {
     "data": {
      "image/png": "[encoded data removed]",
      "text/plain": [
       "<Figure size 720x720 with 5 Axes>"
      ]
     },
     "metadata": {},
     "output_type": "display_data"
    }
   ],
   "source": [
    "#the previous images were then opened in photoshop and the bacgkround was removed\n",
    "#here i view the new images exported from photoshop with a new white bacgrkound\n",
    "import numpy as np\n",
    "import matplotlib.image as mpimg\n",
    "import matplotlib.pyplot as plt\n",
    "%matplotlib inline\n",
    "img=[]\n",
    "filess = ['shoes_clean','shirt_1_clean','shirt_2_clean','trouser_clean','pullover_clean']\n",
    "for x in filess:\n",
    "    #print(x+'.jpg')\n",
    "    fashion_image = np.array(mpimg.imread(x+'.jpg'))\n",
    "    img.append(fashion_image)\n",
    "    \n",
    "\n",
    "\n",
    "\n",
    "\n",
    "#my images i took\n",
    "import matplotlib.pyplot as plt\n",
    "fig, ax = plt.subplots(1, 5, figsize=(10, 10))\n",
    "for i, axi in enumerate(ax.flat):\n",
    "    axi.imshow(img[i])\n",
    "    #axi.set_title(class_names[my_label[i]])\n",
    "    axi.set(xticks=[], yticks=[])"
   ]
  },
  {
   "cell_type": "code",
   "execution_count": 140,
   "metadata": {},
   "outputs": [
    {
     "data": {
      "image/png": "[encoded data removed]",
      "text/plain": [
       "<Figure size 720x720 with 5 Axes>"
      ]
     },
     "metadata": {},
     "output_type": "display_data"
    }
   ],
   "source": [
    "#here, i loop through the images and view them in the same manner the fashion_mnist images were shown before\n",
    "my_label =  [7,0,0,1,2]\n",
    "\n",
    "import matplotlib.pyplot as plt\n",
    "fig, ax = plt.subplots(1, 5, figsize=(10, 10))\n",
    "for i, axi in enumerate(ax.flat):\n",
    "    axi.imshow(X_experiment[i].reshape(28,28))\n",
    "    axi.set_title(class_names[my_label[i]])\n",
    "    axi.set(xticks=[], yticks=[])"
   ]
  },
  {
   "cell_type": "code",
   "execution_count": 102,
   "metadata": {},
   "outputs": [],
   "source": [
    "# here i create a list containing all the labels for my images\n",
    "#example 7, standers for a sneaker, and its in the same position as X_experiment shoe image\n",
    "import numpy as np\n",
    "#the categories my images belong with\n",
    "#\n",
    "y_experiment =  [7,0,0,1,2]\n",
    "#"
   ]
  },
  {
   "cell_type": "code",
   "execution_count": 103,
   "metadata": {},
   "outputs": [
    {
     "data": {
      "text/plain": [
       "(5, 784)"
      ]
     },
     "execution_count": 103,
     "metadata": {},
     "output_type": "execute_result"
    }
   ],
   "source": [
    "X_experiment.shape"
   ]
  },
  {
   "cell_type": "markdown",
   "metadata": {},
   "source": [
    "<div class=\"box red\" style=\"width:50%;height:15px;background:#00f\">\n",
    "  \n",
    "</div> \n",
    "<h3>Using Logistic for image classification</h3>"
   ]
  },
  {
   "cell_type": "code",
   "execution_count": 104,
   "metadata": {},
   "outputs": [
    {
     "name": "stdout",
     "output_type": "stream",
     "text": [
      "score:80.0\n"
     ]
    }
   ],
   "source": [
    "#logistic model image classification\n",
    "y_hat_experiment = model_log.predict(X_experiment)\n",
    "\n",
    "\n",
    "from sklearn.metrics import accuracy_score\n",
    "print('score:{}'.format(accuracy_score(y_experiment,y_hat_experiment, normalize = True) * 100 ))"
   ]
  },
  {
   "cell_type": "code",
   "execution_count": null,
   "metadata": {},
   "outputs": [],
   "source": [
    "#logistic model was able to identify 4 of my 5 images. 80% accuracy\n",
    "#the image it could not classify corectly was a pullover that looks like a tshirt,\n",
    "#it was able to classify the pullover as a tshirt."
   ]
  },
  {
   "cell_type": "code",
   "execution_count": 149,
   "metadata": {},
   "outputs": [
    {
     "name": "stdout",
     "output_type": "stream",
     "text": [
      "score:40.0\n"
     ]
    }
   ],
   "source": [
    "#svm model image classification\n",
    "y_hat_experiment = model_svm.predict(X_experiment)\n",
    "\n",
    "\n",
    "from sklearn.metrics import accuracy_score\n",
    "print('score:{}'.format(accuracy_score(y_experiment,y_hat_experiment, normalize = True) * 100 ))"
   ]
  },
  {
   "cell_type": "code",
   "execution_count": null,
   "metadata": {},
   "outputs": [],
   "source": []
  },
  {
   "cell_type": "code",
   "execution_count": null,
   "metadata": {},
   "outputs": [],
   "source": []
  },
  {
   "cell_type": "markdown",
   "metadata": {},
   "source": [
    "<div class=\"box red\" style=\"width:100%;height:100px;background:#00f;text-align: center\"><br>\n",
    "    <h1 style=\"color:white\">Extra</h1>\n",
    "</div> "
   ]
  },
  {
   "cell_type": "markdown",
   "metadata": {},
   "source": [
    "<P>I decided to try different ways to make the KNN model better with less train and test data.</p>"
   ]
  },
  {
   "cell_type": "markdown",
   "metadata": {},
   "source": [
    "<p>\n",
    "Previously, KNN had very high variance and could suffer from overfitting, lots of variables and complexity issues.\n",
    "I decided to draw a validation curve to see how the model perform with different hyperparameters.\n",
    "I then decided to use gridsearch/stratifiedfold to see what it chooses as the best hyperparameters.\n",
    "By comparing these this new model and the old model found above. This new version performed much better.\n",
    "</p>"
   ]
  },
  {
   "cell_type": "markdown",
   "metadata": {},
   "source": [
    "<p>\n",
    "    <b>Previously</b>:<br>\n",
    "KNN<br>\n",
    "in sample accuracy: 89%<br>\n",
    "out of sample accuracy: 52%<br>\n",
    "This model had 37% variance and 11% bias.<br>\n",
    "The AUC score was 0.822<br>\n",
    "\n",
    "\n",
    "<b>new</b>:<br>\n",
    "KNN    <br>\n",
    "now with the new changes below*<br>\n",
    "\n",
    "in sample accuracy: 85%<br>\n",
    "out of sample accuracy: 69%<br>\n",
    "This model had 15% variance and 16% bias.<br>\n",
    "The AUC score was 0.945<br>\n",
    "</p>\n",
    "\n",
    "<br>\n",
    "<p>variance decreased by 22%, bias increased by 4% and AUC incrased by 12%</p>"
   ]
  },
  {
   "cell_type": "code",
   "execution_count": 8,
   "metadata": {},
   "outputs": [],
   "source": [
    "X_test_flat_KNN2 = X_test_flat[:5000].copy()\n",
    "X_train_flat_KNN2 = X_train_flat[:15000].copy()\n",
    "\n",
    "y_test_KNN2 = y_test[:5000].copy()\n",
    "y_train_KNN2 = y_train[:15000].copy()"
   ]
  },
  {
   "cell_type": "code",
   "execution_count": 9,
   "metadata": {},
   "outputs": [
    {
     "data": {
      "text/plain": [
       "(15000, 40)"
      ]
     },
     "execution_count": 9,
     "metadata": {},
     "output_type": "execute_result"
    }
   ],
   "source": [
    "from sklearn.decomposition import PCA\n",
    "pca_KNN1 = PCA(svd_solver='randomized',n_components=40)                                    # Set the number of desired components\n",
    "X_test_flat_KNN2 = pca_KNN1.fit_transform(X_test_flat_KNN2)     # Fit the PCA model\n",
    "X_test_flat_KNN2.shape\n",
    "\n",
    "pca_KNN2 = PCA(svd_solver='randomized', n_components=40)                                    # Set the number of desired components\n",
    "X_train_flat_KNN2 = pca_KNN2.fit_transform(X_train_flat_KNN2)     # Fit the PCA model\n",
    "X_train_flat_KNN2.shape  "
   ]
  },
  {
   "cell_type": "code",
   "execution_count": 10,
   "metadata": {},
   "outputs": [
    {
     "data": {
      "text/plain": [
       "<matplotlib.legend.Legend at 0x1fea59d8790>"
      ]
     },
     "execution_count": 10,
     "metadata": {},
     "output_type": "execute_result"
    },
    {
     "data": {
      "image/png": "[encoded data removed]",
      "text/plain": [
       "<Figure size 432x288 with 1 Axes>"
      ]
     },
     "metadata": {
      "needs_background": "light"
     },
     "output_type": "display_data"
    }
   ],
   "source": [
    "#graphing accuracy scores based on hyperparameters neighbors\n",
    "import matplotlib.pyplot as plt\n",
    "from sklearn.neighbors import KNeighborsClassifier\n",
    "from sklearn.metrics import accuracy_score\n",
    "from sklearn.model_selection import GridSearchCV\n",
    "from sklearn.model_selection import StratifiedKFold\n",
    "from sklearn.metrics import roc_auc_score\n",
    "n = range(2,20)\n",
    "score_train = []\n",
    "score_test = []\n",
    "\n",
    "\n",
    "for i in n:\n",
    "    model = model = KNeighborsClassifier(n_neighbors=i).fit(X_train_flat_KNN2, y_train_KNN2)\n",
    "    y_train_hat_KNN2  = model.predict(X_train_flat_KNN2)\n",
    "    y_test_hat_KNN2  = model.predict(X_test_flat_KNN2)\n",
    "    \n",
    "    score_train.append(accuracy_score(y_train_KNN2,y_train_hat_KNN2, normalize = True) * 100 )\n",
    "    score_test.append(accuracy_score(y_test_KNN2,y_test_hat_KNN2, normalize = True) * 100 )\n",
    "\n",
    "    \n",
    "plt.plot(n,  score_train, label='train')\n",
    "plt.plot(n,  score_test, label='test')\n",
    "plt.xlabel(\"KNN\")\n",
    "plt.ylabel(\"Accuracy\")\n",
    "plt.legend()\n",
    "\n",
    "\n"
   ]
  },
  {
   "cell_type": "markdown",
   "metadata": {},
   "source": [
    "<p>The variance seems to decrease when i use higher knn. The sweet spot seems to be between 7.5 and 12<br>\n",
    "    Next i will run gridsearch to find out the best.\n",
    "</p>"
   ]
  },
  {
   "cell_type": "code",
   "execution_count": 11,
   "metadata": {},
   "outputs": [
    {
     "name": "stdout",
     "output_type": "stream",
     "text": [
      "Best Parameter: {'n_neighbors': 9}\n",
      "Best Cross Vlidation Score: 0.8374\n"
     ]
    }
   ],
   "source": [
    "KNN_model = KNeighborsClassifier()\n",
    "param_grid = {'n_neighbors': [5,6,7,8,9,10,15]}\n",
    "cv = StratifiedKFold(n_splits=5, random_state=0, shuffle=True)\n",
    "grid = GridSearchCV(KNN_model, param_grid, cv = cv, scoring='accuracy',\n",
    "                    return_train_score=True)\n",
    "grid.fit(X_train_flat_KNN2, y_train_KNN2)\n",
    "\n",
    "print(\"Best Parameter: {}\".format(grid.best_params_))\n",
    "print(\"Best Cross Vlidation Score: {}\".format(grid.best_score_))"
   ]
  },
  {
   "cell_type": "code",
   "execution_count": 12,
   "metadata": {},
   "outputs": [],
   "source": [
    "bestModel = grid.best_estimator_\n",
    "y_test_hat_KNN2 = bestModel.predict(X_test_flat_KNN2)"
   ]
  },
  {
   "cell_type": "code",
   "execution_count": 13,
   "metadata": {},
   "outputs": [
    {
     "name": "stdout",
     "output_type": "stream",
     "text": [
      "in sample:85.12666666666667\n",
      "out sample:69.76\n"
     ]
    }
   ],
   "source": [
    "print('in sample:{}'.format(accuracy_score(y_train_KNN2,y_train_hat_KNN2, normalize = True) * 100 ))\n",
    "print('out sample:{}'.format(accuracy_score(y_test_KNN2,y_test_hat_KNN2, normalize = True) * 100 ))"
   ]
  },
  {
   "cell_type": "code",
   "execution_count": 15,
   "metadata": {},
   "outputs": [
    {
     "name": "stdout",
     "output_type": "stream",
     "text": [
      "AUC for log: 0.945\n"
     ]
    }
   ],
   "source": [
    "from sklearn.metrics import roc_auc_score\n",
    "\n",
    "log_auc = roc_auc_score(y_test_KNN2, model.predict_proba(X_test_flat_KNN2)[:], multi_class=\"ovr\") \n",
    "print(\"AUC for log: {:.3f}\".format(log_auc))"
   ]
  },
  {
   "cell_type": "code",
   "execution_count": null,
   "metadata": {},
   "outputs": [],
   "source": []
  }
 ],
 "metadata": {
  "kernelspec": {
   "display_name": "Python 3",
   "language": "python",
   "name": "python3"
  },
  "language_info": {
   "codemirror_mode": {
    "name": "ipython",
    "version": 3
   },
   "file_extension": ".py",
   "mimetype": "text/x-python",
   "name": "python",
   "nbconvert_exporter": "python",
   "pygments_lexer": "ipython3",
   "version": "3.8.5"
  }
 },
 "nbformat": 4,
 "nbformat_minor": 4
}
